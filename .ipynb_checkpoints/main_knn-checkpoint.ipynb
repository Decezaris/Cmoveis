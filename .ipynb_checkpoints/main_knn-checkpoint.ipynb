{
 "cells": [
  {
   "cell_type": "markdown",
   "metadata": {},
   "source": [
    "## Imports\n"
   ]
  },
  {
   "cell_type": "code",
   "execution_count": 1,
   "metadata": {},
   "outputs": [],
   "source": [
    "import numpy as np\n",
    "import pandas as pd\n",
    "from sklearn import neighbors\n",
    "from sklearn.model_selection import KFold\n",
    "from IPython.display import display # Allows the use of display() for DataFrames\n",
    "%matplotlib inline\n",
    "from sklearn.preprocessing import StandardScaler"
   ]
  },
  {
   "cell_type": "markdown",
   "metadata": {},
   "source": [
    "## Normalizando Dados (menos lat e lon)"
   ]
  },
  {
   "cell_type": "code",
   "execution_count": 2,
   "metadata": {},
   "outputs": [
    {
     "data": {
      "text/html": [
       "<div>\n",
       "<style scoped>\n",
       "    .dataframe tbody tr th:only-of-type {\n",
       "        vertical-align: middle;\n",
       "    }\n",
       "\n",
       "    .dataframe tbody tr th {\n",
       "        vertical-align: top;\n",
       "    }\n",
       "\n",
       "    .dataframe thead th {\n",
       "        text-align: right;\n",
       "    }\n",
       "</style>\n",
       "<table border=\"1\" class=\"dataframe\">\n",
       "  <thead>\n",
       "    <tr style=\"text-align: right;\">\n",
       "      <th></th>\n",
       "      <th>pontoId</th>\n",
       "      <th>lat</th>\n",
       "      <th>lon</th>\n",
       "      <th>pathBTS1</th>\n",
       "      <th>pathBTS2</th>\n",
       "      <th>pathBTS3</th>\n",
       "      <th>pathBTS4</th>\n",
       "      <th>pathBTS5</th>\n",
       "      <th>pathBTS6</th>\n",
       "      <th>taBTS1</th>\n",
       "      <th>taBTS2</th>\n",
       "      <th>taBTS3</th>\n",
       "      <th>taBTS4</th>\n",
       "      <th>taBTS5</th>\n",
       "      <th>taBTS6</th>\n",
       "    </tr>\n",
       "  </thead>\n",
       "  <tbody>\n",
       "    <tr>\n",
       "      <th>0</th>\n",
       "      <td>411</td>\n",
       "      <td>-8.075448</td>\n",
       "      <td>-34.893459</td>\n",
       "      <td>-0.245444</td>\n",
       "      <td>-0.119072</td>\n",
       "      <td>-0.317120</td>\n",
       "      <td>-0.050926</td>\n",
       "      <td>-0.658604</td>\n",
       "      <td>0.988673</td>\n",
       "      <td>0.492008</td>\n",
       "      <td>-1.223457</td>\n",
       "      <td>-0.551552</td>\n",
       "      <td>-1.223457</td>\n",
       "      <td>1.056149</td>\n",
       "      <td>1.386303</td>\n",
       "    </tr>\n",
       "    <tr>\n",
       "      <th>1</th>\n",
       "      <td>516</td>\n",
       "      <td>-8.074647</td>\n",
       "      <td>-34.890316</td>\n",
       "      <td>-0.320266</td>\n",
       "      <td>0.281964</td>\n",
       "      <td>1.004737</td>\n",
       "      <td>-0.799438</td>\n",
       "      <td>0.717571</td>\n",
       "      <td>1.750301</td>\n",
       "      <td>0.492008</td>\n",
       "      <td>-1.223457</td>\n",
       "      <td>0.511090</td>\n",
       "      <td>-1.223457</td>\n",
       "      <td>-0.125506</td>\n",
       "      <td>1.386303</td>\n",
       "    </tr>\n",
       "    <tr>\n",
       "      <th>2</th>\n",
       "      <td>1673</td>\n",
       "      <td>-8.069371</td>\n",
       "      <td>-34.898918</td>\n",
       "      <td>-0.380933</td>\n",
       "      <td>-0.427351</td>\n",
       "      <td>-0.686353</td>\n",
       "      <td>-0.166293</td>\n",
       "      <td>-0.105143</td>\n",
       "      <td>-1.308454</td>\n",
       "      <td>0.492008</td>\n",
       "      <td>-0.025605</td>\n",
       "      <td>-0.551552</td>\n",
       "      <td>-0.025605</td>\n",
       "      <td>1.056149</td>\n",
       "      <td>-0.055876</td>\n",
       "    </tr>\n",
       "    <tr>\n",
       "      <th>3</th>\n",
       "      <td>1140</td>\n",
       "      <td>-8.071290</td>\n",
       "      <td>-34.900772</td>\n",
       "      <td>0.045756</td>\n",
       "      <td>-0.029043</td>\n",
       "      <td>0.247808</td>\n",
       "      <td>0.284875</td>\n",
       "      <td>1.231143</td>\n",
       "      <td>0.285821</td>\n",
       "      <td>0.492008</td>\n",
       "      <td>-0.025605</td>\n",
       "      <td>-1.614194</td>\n",
       "      <td>-0.025605</td>\n",
       "      <td>1.056149</td>\n",
       "      <td>-0.055876</td>\n",
       "    </tr>\n",
       "    <tr>\n",
       "      <th>4</th>\n",
       "      <td>1043</td>\n",
       "      <td>-8.072050</td>\n",
       "      <td>-34.897167</td>\n",
       "      <td>-0.670110</td>\n",
       "      <td>-0.307313</td>\n",
       "      <td>-0.066041</td>\n",
       "      <td>-0.394280</td>\n",
       "      <td>0.565493</td>\n",
       "      <td>0.253984</td>\n",
       "      <td>0.492008</td>\n",
       "      <td>-1.223457</td>\n",
       "      <td>-0.551552</td>\n",
       "      <td>-1.223457</td>\n",
       "      <td>-0.125506</td>\n",
       "      <td>-0.055876</td>\n",
       "    </tr>\n",
       "  </tbody>\n",
       "</table>\n",
       "</div>"
      ],
      "text/plain": [
       "   pontoId       lat        lon  pathBTS1  pathBTS2  pathBTS3  pathBTS4  \\\n",
       "0      411 -8.075448 -34.893459 -0.245444 -0.119072 -0.317120 -0.050926   \n",
       "1      516 -8.074647 -34.890316 -0.320266  0.281964  1.004737 -0.799438   \n",
       "2     1673 -8.069371 -34.898918 -0.380933 -0.427351 -0.686353 -0.166293   \n",
       "3     1140 -8.071290 -34.900772  0.045756 -0.029043  0.247808  0.284875   \n",
       "4     1043 -8.072050 -34.897167 -0.670110 -0.307313 -0.066041 -0.394280   \n",
       "\n",
       "   pathBTS5  pathBTS6    taBTS1    taBTS2    taBTS3    taBTS4    taBTS5  \\\n",
       "0 -0.658604  0.988673  0.492008 -1.223457 -0.551552 -1.223457  1.056149   \n",
       "1  0.717571  1.750301  0.492008 -1.223457  0.511090 -1.223457 -0.125506   \n",
       "2 -0.105143 -1.308454  0.492008 -0.025605 -0.551552 -0.025605  1.056149   \n",
       "3  1.231143  0.285821  0.492008 -0.025605 -1.614194 -0.025605  1.056149   \n",
       "4  0.565493  0.253984  0.492008 -1.223457 -0.551552 -1.223457 -0.125506   \n",
       "\n",
       "     taBTS6  \n",
       "0  1.386303  \n",
       "1  1.386303  \n",
       "2 -0.055876  \n",
       "3 -0.055876  \n",
       "4 -0.055876  "
      ]
     },
     "metadata": {},
     "output_type": "display_data"
    }
   ],
   "source": [
    "fit_df = pd.read_csv(\"LocTreino_Equipe_8.csv\")\n",
    "bts_df = pd.read_csv(\"dados_BTSs.csv\")\n",
    "\n",
    "fit_df.dropna(inplace=True)\n",
    "fit_df.reset_index(inplace=True,drop=True)\n",
    "\n",
    "scaler = StandardScaler()\n",
    "numerical = [\"pathBTS1\",\"pathBTS2\",\"pathBTS3\",\"pathBTS4\",\"pathBTS5\",\"pathBTS6\",\"taBTS1\",\"taBTS2\",\"taBTS3\",\"taBTS4\",\"taBTS5\",\"taBTS6\"]\n",
    "\n",
    "fit_df[numerical] = pd.DataFrame(scaler.fit_transform(fit_df[numerical]))\n",
    "display(fit_df.head())"
   ]
  },
  {
   "cell_type": "code",
   "execution_count": null,
   "metadata": {},
   "outputs": [],
   "source": []
  },
  {
   "cell_type": "code",
   "execution_count": 3,
   "metadata": {},
   "outputs": [],
   "source": [
    "#Crossvalidation K-fold\n",
    "\n",
    "kf = KFold(n_splits = 10, shuffle = False, random_state = None)\n",
    "result = next(kf.split(fit_df), None)\n",
    "\n",
    "train = fit_df.iloc[result[0]]\n",
    "test =  fit_df.iloc[result[1]]\n",
    "\n",
    "y_train = train[[\"lat\", \"lon\"]]\n",
    "X_train = train.iloc[:, 3:]\n",
    "\n",
    "y_test = test[[\"lat\", \"lon\"]]\n",
    "X_test= test.iloc[:, 3:]\n"
   ]
  },
  {
   "cell_type": "code",
   "execution_count": null,
   "metadata": {},
   "outputs": [],
   "source": []
  },
  {
   "cell_type": "code",
   "execution_count": 4,
   "metadata": {},
   "outputs": [
    {
     "name": "stdout",
     "output_type": "stream",
     "text": [
      "[{'n_neighbors': 2}, {'n_neighbors': 3}]\n",
      "Error pathBTSs 1.21347763240724e-07\n",
      "Min Error (in meters):0.12337065897690527\n",
      "Max Error (in meters):216.90543718516562\n",
      "Mean Error (in meters):39.494315438592636\n",
      "Std. Deviation (in meters):37.583744375128084\n"
     ]
    },
    {
     "data": {
      "image/png": "[encoded data removed]",
      "text/plain": [
       "<Figure size 432x288 with 1 Axes>"
      ]
     },
     "metadata": {
      "needs_background": "light"
     },
     "output_type": "display_data"
    },
    {
     "data": {
      "image/png": "[encoded data removed]",
      "text/plain": [
       "<Figure size 432x288 with 1 Axes>"
      ]
     },
     "metadata": {
      "needs_background": "light"
     },
     "output_type": "display_data"
    },
    {
     "data": {
      "image/png": "[encoded data removed]",
      "text/plain": [
       "<Figure size 432x288 with 1 Axes>"
      ]
     },
     "metadata": {
      "needs_background": "light"
     },
     "output_type": "display_data"
    },
    {
     "data": {
      "image/png": "[encoded data removed]",
      "text/plain": [
       "<Figure size 432x288 with 1 Axes>"
      ]
     },
     "metadata": {
      "needs_background": "light"
     },
     "output_type": "display_data"
    }
   ],
   "source": [
    "from util.MultiRegressor import MultiRegressor \n",
    "from sklearn.metrics import mean_squared_error\n",
    "from util.locdefs import get_distance_in_meters, geodesicDistance\n",
    "from util.statistics import get_errors,show_stats,show_stats_graphs,show_box_plots\n",
    "from math import ceil\n",
    "\n",
    "clf = neighbors.KNeighborsRegressor()\n",
    "parameters = {'n_neighbors':list(range(1,30))}\n",
    "\n",
    "multiregressor = MultiRegressor(clf, parameters)\n",
    "multiregressor.fit(X_train, y_train)\n",
    "\n",
    "print(multiregressor.best_parameters_)\n",
    "\n",
    "y_pred = multiregressor.predict(X_test)\n",
    "#display(y_pred)\n",
    "\n",
    "#display(y_test.T)\n",
    "  \n",
    "ems = mean_squared_error(y_test, y_pred)\n",
    "print(\"Error pathBTSs\", ems)\n",
    "error_knn = get_errors(y_test, y_pred)\n",
    "show_stats(error_knn)\n",
    "show_stats_graphs(error_knn)\n",
    "show_box_plots([error_knn],[\"KNN\"])\n",
    "#list_temp = []\n",
    "#for i in range(y_test.shape[0]): \n",
    " #   list_temp.append(get_distance_in_meters(y_pred[i][0], y_test[\"lat\"][i], y_pred[i][1], y_test[\"lon\"][i])/1000)\n",
    "    #list_temp.append(geodesicDistance((y_pred[i][0], y_test[\"lat\"][i]), (y_pred[i][1], y_test[\"lon\"][i])))                \n",
    "\n",
    "#ems_dist = mean_squared_error([0]*y_test.shape[0], list_temp)\n",
    "#print(\"EMS with data in meters \", ems_dist)\n",
    "\n",
    "\n"
   ]
  },
  {
   "cell_type": "code",
   "execution_count": null,
   "metadata": {},
   "outputs": [],
   "source": []
  },
  {
   "cell_type": "markdown",
   "metadata": {},
   "source": [
    "# Generate Grid\n"
   ]
  },
  {
   "cell_type": "code",
   "execution_count": 5,
   "metadata": {},
   "outputs": [
    {
     "name": "stdout",
     "output_type": "stream",
     "text": [
      "Region dimensions in Km  2.0273225460434894 2.3950594892869215\n"
     ]
    },
    {
     "ename": "ValueError",
     "evalue": "operands could not be broadcast together with shapes (14400,2) (12,) (14400,2) ",
     "output_type": "error",
     "traceback": [
      "\u001b[1;31m---------------------------------------------------------------------------\u001b[0m",
      "\u001b[1;31mValueError\u001b[0m                                Traceback (most recent call last)",
      "\u001b[1;32m<ipython-input-5-906811b42f0b>\u001b[0m in \u001b[0;36m<module>\u001b[1;34m()\u001b[0m\n\u001b[0;32m     44\u001b[0m \u001b[1;33m\u001b[0m\u001b[0m\n\u001b[0;32m     45\u001b[0m \u001b[0msamples_df\u001b[0m \u001b[1;33m=\u001b[0m \u001b[0mpd\u001b[0m\u001b[1;33m.\u001b[0m\u001b[0mDataFrame\u001b[0m\u001b[1;33m(\u001b[0m\u001b[1;33m{\u001b[0m\u001b[1;34m'lat'\u001b[0m \u001b[1;33m:\u001b[0m \u001b[1;33m[\u001b[0m\u001b[0mx\u001b[0m\u001b[1;33m[\u001b[0m\u001b[1;36m0\u001b[0m\u001b[1;33m]\u001b[0m \u001b[1;32mfor\u001b[0m \u001b[0mx\u001b[0m \u001b[1;32min\u001b[0m \u001b[0msamples\u001b[0m\u001b[1;33m]\u001b[0m\u001b[1;33m,\u001b[0m \u001b[1;34m'lon'\u001b[0m\u001b[1;33m:\u001b[0m \u001b[1;33m[\u001b[0m\u001b[0mx\u001b[0m\u001b[1;33m[\u001b[0m\u001b[1;36m1\u001b[0m\u001b[1;33m]\u001b[0m \u001b[1;32mfor\u001b[0m \u001b[0mx\u001b[0m \u001b[1;32min\u001b[0m \u001b[0msamples\u001b[0m\u001b[1;33m]\u001b[0m\u001b[1;33m}\u001b[0m\u001b[1;33m)\u001b[0m\u001b[1;33m\u001b[0m\u001b[0m\n\u001b[1;32m---> 46\u001b[1;33m \u001b[0mpredict_path_loss\u001b[0m \u001b[1;33m=\u001b[0m \u001b[0mmultiregressor\u001b[0m\u001b[1;33m.\u001b[0m\u001b[0mpredict\u001b[0m\u001b[1;33m(\u001b[0m\u001b[0msamples_df\u001b[0m\u001b[1;33m)\u001b[0m\u001b[1;33m\u001b[0m\u001b[0m\n\u001b[0m\u001b[0;32m     47\u001b[0m \u001b[1;33m\u001b[0m\u001b[0m\n\u001b[0;32m     48\u001b[0m \u001b[0mcells\u001b[0m \u001b[1;33m=\u001b[0m \u001b[0mzip\u001b[0m\u001b[1;33m(\u001b[0m\u001b[0msamples\u001b[0m\u001b[1;33m,\u001b[0m \u001b[0mpredict_path_loss\u001b[0m\u001b[1;33m)\u001b[0m\u001b[1;33m\u001b[0m\u001b[0m\n",
      "\u001b[1;32m~\\Downloads\\Cmoveis-master\\util\\MultiRegressor.py\u001b[0m in \u001b[0;36mpredict\u001b[1;34m(self, X)\u001b[0m\n\u001b[0;32m     26\u001b[0m \u001b[1;33m\u001b[0m\u001b[0m\n\u001b[0;32m     27\u001b[0m     \u001b[1;32mdef\u001b[0m \u001b[0mpredict\u001b[0m\u001b[1;33m(\u001b[0m\u001b[0mself\u001b[0m\u001b[1;33m,\u001b[0m\u001b[0mX\u001b[0m\u001b[1;33m)\u001b[0m\u001b[1;33m:\u001b[0m\u001b[1;33m\u001b[0m\u001b[0m\n\u001b[1;32m---> 28\u001b[1;33m         \u001b[0mX_t\u001b[0m \u001b[1;33m=\u001b[0m \u001b[0mself\u001b[0m\u001b[1;33m.\u001b[0m\u001b[0mscaler\u001b[0m\u001b[1;33m.\u001b[0m\u001b[0mtransform\u001b[0m\u001b[1;33m(\u001b[0m\u001b[0mX\u001b[0m\u001b[1;33m)\u001b[0m\u001b[1;33m\u001b[0m\u001b[0m\n\u001b[0m\u001b[0;32m     29\u001b[0m         \u001b[0mres\u001b[0m \u001b[1;33m=\u001b[0m \u001b[1;33m[\u001b[0m\u001b[0mest\u001b[0m\u001b[1;33m.\u001b[0m\u001b[0mpredict\u001b[0m\u001b[1;33m(\u001b[0m\u001b[0mX_t\u001b[0m\u001b[1;33m)\u001b[0m\u001b[1;33m[\u001b[0m\u001b[1;33m:\u001b[0m\u001b[1;33m,\u001b[0m \u001b[0mnp\u001b[0m\u001b[1;33m.\u001b[0m\u001b[0mnewaxis\u001b[0m\u001b[1;33m]\u001b[0m \u001b[1;32mfor\u001b[0m \u001b[0mest\u001b[0m \u001b[1;32min\u001b[0m \u001b[0mself\u001b[0m\u001b[1;33m.\u001b[0m\u001b[0mestimators_\u001b[0m\u001b[1;33m]\u001b[0m\u001b[1;33m\u001b[0m\u001b[0m\n\u001b[0;32m     30\u001b[0m         \u001b[1;32mreturn\u001b[0m \u001b[0mnp\u001b[0m\u001b[1;33m.\u001b[0m\u001b[0mhstack\u001b[0m\u001b[1;33m(\u001b[0m\u001b[0mres\u001b[0m\u001b[1;33m)\u001b[0m\u001b[1;33m\u001b[0m\u001b[0m\n",
      "\u001b[1;32m~\\Anaconda\\lib\\site-packages\\sklearn\\preprocessing\\data.py\u001b[0m in \u001b[0;36mtransform\u001b[1;34m(self, X, y, copy)\u001b[0m\n\u001b[0;32m    690\u001b[0m         \u001b[1;32melse\u001b[0m\u001b[1;33m:\u001b[0m\u001b[1;33m\u001b[0m\u001b[0m\n\u001b[0;32m    691\u001b[0m             \u001b[1;32mif\u001b[0m \u001b[0mself\u001b[0m\u001b[1;33m.\u001b[0m\u001b[0mwith_mean\u001b[0m\u001b[1;33m:\u001b[0m\u001b[1;33m\u001b[0m\u001b[0m\n\u001b[1;32m--> 692\u001b[1;33m                 \u001b[0mX\u001b[0m \u001b[1;33m-=\u001b[0m \u001b[0mself\u001b[0m\u001b[1;33m.\u001b[0m\u001b[0mmean_\u001b[0m\u001b[1;33m\u001b[0m\u001b[0m\n\u001b[0m\u001b[0;32m    693\u001b[0m             \u001b[1;32mif\u001b[0m \u001b[0mself\u001b[0m\u001b[1;33m.\u001b[0m\u001b[0mwith_std\u001b[0m\u001b[1;33m:\u001b[0m\u001b[1;33m\u001b[0m\u001b[0m\n\u001b[0;32m    694\u001b[0m                 \u001b[0mX\u001b[0m \u001b[1;33m/=\u001b[0m \u001b[0mself\u001b[0m\u001b[1;33m.\u001b[0m\u001b[0mscale_\u001b[0m\u001b[1;33m\u001b[0m\u001b[0m\n",
      "\u001b[1;31mValueError\u001b[0m: operands could not be broadcast together with shapes (14400,2) (12,) (14400,2) "
     ]
    }
   ],
   "source": [
    "max_lat = np.array(fit_df[[\"lat\"]]).max()\n",
    "min_lat = np.array(fit_df[[\"lat\"]]).min()\n",
    "\n",
    "max_lon = np.array(fit_df[[\"lon\"]]).max()\n",
    "min_lon = np.array(fit_df[[\"lon\"]]).min()\n",
    "\n",
    "left_up = (max_lat, min_lon)\n",
    "right_up = (max_lat, max_lon)\n",
    "left_down = (min_lat, min_lon)\n",
    "right_down = (min_lat, max_lon)\n",
    "\n",
    "#left_side = get_distance_in_meters(left_up[0], left_down[0], left_up[1], left_down[1])\n",
    "#right_side = get_distance_in_meters(right_up[0], right_down[0], right_up[1], right_down[1])\n",
    "\n",
    "left_side = geodesicDistance(left_up, left_down)\n",
    "right_side = geodesicDistance(right_up, right_down)\n",
    "\n",
    "#top_side = get_distance_in_meters(left_up[0], left_up[1], right_up[0], right_up[1])\n",
    "#bottom_side = get_distance_in_meters(left_down[0], left_down[1], right_down[0], right_down[1])\n",
    "\n",
    "top_side = geodesicDistance(left_up, right_up)\n",
    "bottom_side = geodesicDistance(left_down, right_down)\n",
    "\n",
    "\n",
    "side_a = max(left_side, right_side) #in km\n",
    "side_b = max(top_side, bottom_side) #in km\n",
    "\n",
    "print(\"Region dimensions in Km \", side_a, side_b)\n",
    "\n",
    "cell_size = 0.020 #grid in kilometers\n",
    "side_square = max(side_a, side_b)\n",
    "\n",
    "grid_step = ceil(side_square / cell_size) + 1\n",
    "grid_lats = np.linspace(min_lat, max_lat, grid_step)\n",
    "grid_lons = np.linspace(min_lon, max_lon, grid_step)\n",
    "\n",
    "lat_centers = [(l1 + l2)/2 for l1, l2 in zip(grid_lats, grid_lats[1:])]\n",
    "lon_centers = [(l1 + l2)/2 for l1, l2 in zip(grid_lons, grid_lons[1:])]\n",
    "\n",
    "samples = []\n",
    "for lat in lat_centers:\n",
    "    for lon in lon_centers:\n",
    "        samples.append((lat, lon))\n",
    "\n",
    "samples_df = pd.DataFrame({'lat' : [x[0] for x in samples], 'lon': [x[1] for x in samples]})\n",
    "predict_path_loss = multiregressor.predict(samples_df)\n",
    "\n",
    "cells = zip(samples, predict_path_loss)\n",
    "\n",
    "\n"
   ]
  },
  {
   "cell_type": "code",
   "execution_count": null,
   "metadata": {},
   "outputs": [],
   "source": [
    "mapaPE = folium.Map(location=[-8.0593085,-34.9103383], zoom_start=15) #pernambuco\n",
    "#data = pd.DataFrame({'lat':[max_lat, min_lat],'lon':[max_lon,min_lon ],})\n",
    "\n",
    "for _, ponto in samples_df.iterrows():    \n",
    "    folium.Marker(\n",
    "        location=[ponto['lat'], ponto['lon']],\n",
    "        icon=folium.Icon(color='red'),\n",
    "        #popup=ponto['bts'],\n",
    "    ).add_to(mapaPE)\n",
    "\n",
    "\n",
    "    for _, ponto in bts_df.iterrows():    \n",
    "    folium.Marker(\n",
    "        location=[ponto['lat'], ponto['lon']],\n",
    "        icon=folium.Icon(color='blue'),\n",
    "        #popup=ponto['bts'],\n",
    "    ).add_to(mapaPE)\n",
    "\n",
    "for _, ponto in fit_df.iterrows():    \n",
    "    folium.Marker(\n",
    "        location=[ponto['lat'], ponto['lon']],\n",
    "        icon=folium.Icon(color='green'),\n",
    "        #popup=ponto['bts'],\n",
    "    ).add_to(mapaPE)    \n",
    "\n",
    "mapaPE.save('predicoes-bts-treino-v.html')"
   ]
  },
  {
   "cell_type": "code",
   "execution_count": null,
   "metadata": {},
   "outputs": [],
   "source": [
    "import folium\n",
    "\n",
    "bts_positions = bts_df[[\"lat\", \"lon\"]].values\n",
    "\n",
    "# Calculate map center\n",
    "center_lat = np.mean([lat for lat in bts_positions[:, 0]])\n",
    "center_lon = np.mean([lon for lon in bts_positions[:, 1]])\n",
    "\n",
    "map_ = folium.Map(location=[center_lat, center_lon],\n",
    "                              zoom_start=14,)\n",
    "\n",
    "for lat, lon in bts_positions:\n",
    "    marker = folium.CircleMarker(location=(lat,lon),\n",
    "                                     color='black',\n",
    "                                     weight=5,\n",
    "                                     radius=2,\n",
    "                                     fill_color='white',\n",
    "                                     fill=True)\n",
    "    marker.add_to(map_)\n",
    "\n",
    "map_"
   ]
  },
  {
   "cell_type": "code",
   "execution_count": null,
   "metadata": {
    "scrolled": true
   },
   "outputs": [],
   "source": [
    "# Voronoi\n",
    "from scipy.spatial import Voronoi\n",
    "\n",
    "points = []\n",
    "\n",
    "for x in cells:\n",
    "    points.append(x[0])\n",
    "\n",
    "#print(points)\n",
    "    \n",
    "vor = Voronoi(np.array(points))\n",
    "\n",
    "# Create map\n",
    "map_ = folium.Map(location=[center_lat, center_lon],\n",
    "                  zoom_start=13)\n",
    "\n",
    "# Add voronoi cells\n",
    "for i1, i2 in vor.ridge_vertices:\n",
    "    if i1 != -1 and i2 != -1:\n",
    "        p1 = vor.vertices[i1]\n",
    "        p2 = vor.vertices[i2]\n",
    "        folium.PolyLine([p1, p2],\n",
    "                        color='black',\n",
    "                        weight=0.2,\n",
    "                        opacity=1).add_to(map_)\n",
    "\n",
    "# Add corners\n",
    "corners = [[max_lat, max_lon],\n",
    "           [max_lat, min_lon],\n",
    "           [min_lat, max_lon],\n",
    "           [min_lat, min_lon]]\n",
    "\n",
    "for c in corners:\n",
    "    marker = folium.Marker(location=c)\n",
    "    marker.add_to(map_)\n",
    "\n",
    "# Add grid points\n",
    "for (lat, lon), _ in cells:\n",
    "    marker = folium.CircleMarker(location=(lat,lon),\n",
    "                                 color='blue',\n",
    "                                 weight=2,\n",
    "                                 radius=1,\n",
    "                                 fill_color='blue',\n",
    "                                 fill=True)\n",
    "    marker.add_to(map_)\n",
    "    \n",
    "map_.save(\"grid.html\")"
   ]
  },
  {
   "cell_type": "code",
   "execution_count": 2,
   "metadata": {},
   "outputs": [
    {
     "ename": "NameError",
     "evalue": "name 'y_pred' is not defined",
     "output_type": "error",
     "traceback": [
      "\u001b[1;31m---------------------------------------------------------------------------\u001b[0m",
      "\u001b[1;31mNameError\u001b[0m                                 Traceback (most recent call last)",
      "\u001b[1;32m<ipython-input-2-48a47a24969b>\u001b[0m in \u001b[0;36m<module>\u001b[1;34m()\u001b[0m\n\u001b[0;32m      4\u001b[0m \u001b[1;31m#data = pd.DataFrame({'lat':[max_lat, min_lat],'lon':[max_lon,min_lon ],})\u001b[0m\u001b[1;33m\u001b[0m\u001b[1;33m\u001b[0m\u001b[0m\n\u001b[0;32m      5\u001b[0m \u001b[1;33m\u001b[0m\u001b[0m\n\u001b[1;32m----> 6\u001b[1;33m \u001b[1;32mfor\u001b[0m \u001b[0m_\u001b[0m\u001b[1;33m,\u001b[0m \u001b[0mponto\u001b[0m \u001b[1;32min\u001b[0m \u001b[0my_pred\u001b[0m\u001b[1;33m.\u001b[0m\u001b[0miterrows\u001b[0m\u001b[1;33m(\u001b[0m\u001b[1;33m)\u001b[0m\u001b[1;33m:\u001b[0m\u001b[1;33m\u001b[0m\u001b[0m\n\u001b[0m\u001b[0;32m      7\u001b[0m     folium.CircleMarker(\n\u001b[0;32m      8\u001b[0m                         \u001b[0mlocation\u001b[0m\u001b[1;33m=\u001b[0m\u001b[1;33m[\u001b[0m\u001b[0mponto\u001b[0m\u001b[1;33m[\u001b[0m\u001b[1;34m'lat'\u001b[0m\u001b[1;33m]\u001b[0m\u001b[1;33m,\u001b[0m \u001b[0mponto\u001b[0m\u001b[1;33m[\u001b[0m\u001b[1;34m'lon'\u001b[0m\u001b[1;33m]\u001b[0m\u001b[1;33m]\u001b[0m\u001b[1;33m,\u001b[0m\u001b[1;33m\u001b[0m\u001b[0m\n",
      "\u001b[1;31mNameError\u001b[0m: name 'y_pred' is not defined"
     ]
    }
   ],
   "source": [
    "import folium\n",
    "\n",
    "mapaPE = folium.Map(location=[-8.0593085,-34.9103383], zoom_start=15) #pernambuco\n",
    "#data = pd.DataFrame({'lat':[max_lat, min_lat],'lon':[max_lon,min_lon ],})\n",
    "\n",
    "for _, ponto in y_pred.iterrows():    \n",
    "    folium.CircleMarker(\n",
    "                        location=[ponto['lat'], ponto['lon']],\n",
    "                         color='black',\n",
    "                        weight=5,\n",
    "                        radius=2,\n",
    "             fill_color='white',\n",
    "             fill=True\n",
    "    ).add_to(mapaPE)\n",
    "\n",
    "\n",
    "for _, ponto in bts_df.iterrows():    \n",
    "    folium.CircleMarker(\n",
    "                        location=[ponto['lat'], ponto['lon']],\n",
    "                         color='red',\n",
    "                        weight=5,\n",
    "                        radius=2,\n",
    "             fill_color='white',\n",
    "             fill=True\n",
    "    ).add_to(mapaPE)\n",
    "\n",
    "for _, ponto in X_test.iterrows():    \n",
    "    folium.CircleMarker(\n",
    "                        location=[ponto['lat'], ponto['lon']],\n",
    "                         color='green',\n",
    "                        weight=5,\n",
    "                        radius=2,\n",
    "             fill_color='white',\n",
    "             fill=True\n",
    "    ).add_to(mapaPE)    \n",
    "\n",
    "mapaPE.save('predicoes-bts-treino-v.html')"
   ]
  },
  {
   "cell_type": "code",
   "execution_count": null,
   "metadata": {},
   "outputs": [],
   "source": []
  }
 ],
 "metadata": {
  "kernelspec": {
   "display_name": "Python 3",
   "language": "python",
   "name": "python3"
  },
  "language_info": {
   "codemirror_mode": {
    "name": "ipython",
    "version": 3
   },
   "file_extension": ".py",
   "mimetype": "text/x-python",
   "name": "python",
   "nbconvert_exporter": "python",
   "pygments_lexer": "ipython3",
   "version": "3.6.4"
  }
 },
 "nbformat": 4,
 "nbformat_minor": 2
}
