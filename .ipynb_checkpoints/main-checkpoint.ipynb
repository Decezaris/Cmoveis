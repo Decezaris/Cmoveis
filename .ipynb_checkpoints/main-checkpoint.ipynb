{
 "cells": [
  {
   "cell_type": "markdown",
   "metadata": {},
   "source": [
    "## Imports\n"
   ]
  },
  {
   "cell_type": "code",
   "execution_count": 1,
   "metadata": {},
   "outputs": [],
   "source": [
    "import numpy as np\n",
    "import pandas as pd\n",
    "from sklearn import neighbors\n",
    "from sklearn.model_selection import KFold\n",
    "from geopy.distance import geodesic\n",
    "from IPython.display import display # Allows the use of display() for DataFrames\n",
    "%matplotlib inline\n",
    "from sklearn.preprocessing import StandardScaler"
   ]
  },
  {
   "cell_type": "markdown",
   "metadata": {},
   "source": [
    "## Normalizando Dados (menos lat e lon)"
   ]
  },
  {
   "cell_type": "code",
   "execution_count": 2,
   "metadata": {},
   "outputs": [
    {
     "data": {
      "text/html": [
       "<div>\n",
       "<style scoped>\n",
       "    .dataframe tbody tr th:only-of-type {\n",
       "        vertical-align: middle;\n",
       "    }\n",
       "\n",
       "    .dataframe tbody tr th {\n",
       "        vertical-align: top;\n",
       "    }\n",
       "\n",
       "    .dataframe thead th {\n",
       "        text-align: right;\n",
       "    }\n",
       "</style>\n",
       "<table border=\"1\" class=\"dataframe\">\n",
       "  <thead>\n",
       "    <tr style=\"text-align: right;\">\n",
       "      <th></th>\n",
       "      <th>pontoId</th>\n",
       "      <th>lat</th>\n",
       "      <th>lon</th>\n",
       "      <th>pathBTS1</th>\n",
       "      <th>pathBTS2</th>\n",
       "      <th>pathBTS3</th>\n",
       "      <th>pathBTS4</th>\n",
       "      <th>pathBTS5</th>\n",
       "      <th>pathBTS6</th>\n",
       "      <th>taBTS1</th>\n",
       "      <th>taBTS2</th>\n",
       "      <th>taBTS3</th>\n",
       "      <th>taBTS4</th>\n",
       "      <th>taBTS5</th>\n",
       "      <th>taBTS6</th>\n",
       "    </tr>\n",
       "  </thead>\n",
       "  <tbody>\n",
       "    <tr>\n",
       "      <th>0</th>\n",
       "      <td>411</td>\n",
       "      <td>-8.075448</td>\n",
       "      <td>-34.893459</td>\n",
       "      <td>-0.245444</td>\n",
       "      <td>-0.119072</td>\n",
       "      <td>-0.317120</td>\n",
       "      <td>-0.050926</td>\n",
       "      <td>-0.658604</td>\n",
       "      <td>0.988673</td>\n",
       "      <td>0.492008</td>\n",
       "      <td>-1.223457</td>\n",
       "      <td>-0.551552</td>\n",
       "      <td>-1.223457</td>\n",
       "      <td>1.056149</td>\n",
       "      <td>1.386303</td>\n",
       "    </tr>\n",
       "    <tr>\n",
       "      <th>1</th>\n",
       "      <td>516</td>\n",
       "      <td>-8.074647</td>\n",
       "      <td>-34.890316</td>\n",
       "      <td>-0.320266</td>\n",
       "      <td>0.281964</td>\n",
       "      <td>1.004737</td>\n",
       "      <td>-0.799438</td>\n",
       "      <td>0.717571</td>\n",
       "      <td>1.750301</td>\n",
       "      <td>0.492008</td>\n",
       "      <td>-1.223457</td>\n",
       "      <td>0.511090</td>\n",
       "      <td>-1.223457</td>\n",
       "      <td>-0.125506</td>\n",
       "      <td>1.386303</td>\n",
       "    </tr>\n",
       "    <tr>\n",
       "      <th>2</th>\n",
       "      <td>1673</td>\n",
       "      <td>-8.069371</td>\n",
       "      <td>-34.898918</td>\n",
       "      <td>-0.380933</td>\n",
       "      <td>-0.427351</td>\n",
       "      <td>-0.686353</td>\n",
       "      <td>-0.166293</td>\n",
       "      <td>-0.105143</td>\n",
       "      <td>-1.308454</td>\n",
       "      <td>0.492008</td>\n",
       "      <td>-0.025605</td>\n",
       "      <td>-0.551552</td>\n",
       "      <td>-0.025605</td>\n",
       "      <td>1.056149</td>\n",
       "      <td>-0.055876</td>\n",
       "    </tr>\n",
       "    <tr>\n",
       "      <th>3</th>\n",
       "      <td>1140</td>\n",
       "      <td>-8.071290</td>\n",
       "      <td>-34.900772</td>\n",
       "      <td>0.045756</td>\n",
       "      <td>-0.029043</td>\n",
       "      <td>0.247808</td>\n",
       "      <td>0.284875</td>\n",
       "      <td>1.231143</td>\n",
       "      <td>0.285821</td>\n",
       "      <td>0.492008</td>\n",
       "      <td>-0.025605</td>\n",
       "      <td>-1.614194</td>\n",
       "      <td>-0.025605</td>\n",
       "      <td>1.056149</td>\n",
       "      <td>-0.055876</td>\n",
       "    </tr>\n",
       "    <tr>\n",
       "      <th>4</th>\n",
       "      <td>1043</td>\n",
       "      <td>-8.072050</td>\n",
       "      <td>-34.897167</td>\n",
       "      <td>-0.670110</td>\n",
       "      <td>-0.307313</td>\n",
       "      <td>-0.066041</td>\n",
       "      <td>-0.394280</td>\n",
       "      <td>0.565493</td>\n",
       "      <td>0.253984</td>\n",
       "      <td>0.492008</td>\n",
       "      <td>-1.223457</td>\n",
       "      <td>-0.551552</td>\n",
       "      <td>-1.223457</td>\n",
       "      <td>-0.125506</td>\n",
       "      <td>-0.055876</td>\n",
       "    </tr>\n",
       "  </tbody>\n",
       "</table>\n",
       "</div>"
      ],
      "text/plain": [
       "   pontoId       lat        lon  pathBTS1  pathBTS2  pathBTS3  pathBTS4  \\\n",
       "0      411 -8.075448 -34.893459 -0.245444 -0.119072 -0.317120 -0.050926   \n",
       "1      516 -8.074647 -34.890316 -0.320266  0.281964  1.004737 -0.799438   \n",
       "2     1673 -8.069371 -34.898918 -0.380933 -0.427351 -0.686353 -0.166293   \n",
       "3     1140 -8.071290 -34.900772  0.045756 -0.029043  0.247808  0.284875   \n",
       "4     1043 -8.072050 -34.897167 -0.670110 -0.307313 -0.066041 -0.394280   \n",
       "\n",
       "   pathBTS5  pathBTS6    taBTS1    taBTS2    taBTS3    taBTS4    taBTS5  \\\n",
       "0 -0.658604  0.988673  0.492008 -1.223457 -0.551552 -1.223457  1.056149   \n",
       "1  0.717571  1.750301  0.492008 -1.223457  0.511090 -1.223457 -0.125506   \n",
       "2 -0.105143 -1.308454  0.492008 -0.025605 -0.551552 -0.025605  1.056149   \n",
       "3  1.231143  0.285821  0.492008 -0.025605 -1.614194 -0.025605  1.056149   \n",
       "4  0.565493  0.253984  0.492008 -1.223457 -0.551552 -1.223457 -0.125506   \n",
       "\n",
       "     taBTS6  \n",
       "0  1.386303  \n",
       "1  1.386303  \n",
       "2 -0.055876  \n",
       "3 -0.055876  \n",
       "4 -0.055876  "
      ]
     },
     "metadata": {},
     "output_type": "display_data"
    }
   ],
   "source": [
    "fit_df = pd.read_csv(\"LocTreino_Equipe_8.csv\")\n",
    "bts_df = pd.read_csv(\"dados_BTSs.csv\")\n",
    "\n",
    "fit_df.dropna(inplace=True)\n",
    "fit_df.reset_index(inplace=True,drop=True)\n",
    "\n",
    "scaler = StandardScaler()\n",
    "numerical = [\"pathBTS1\",\"pathBTS2\",\"pathBTS3\",\"pathBTS4\",\"pathBTS5\",\"pathBTS6\",\"taBTS1\",\"taBTS2\",\"taBTS3\",\"taBTS4\",\"taBTS5\",\"taBTS6\"]\n",
    "\n",
    "fit_df[numerical] = pd.DataFrame(scaler.fit_transform(fit_df[numerical]))\n",
    "display(fit_df.head())"
   ]
  },
  {
   "cell_type": "code",
   "execution_count": null,
   "metadata": {},
   "outputs": [],
   "source": []
  },
  {
   "cell_type": "code",
   "execution_count": 3,
   "metadata": {},
   "outputs": [],
   "source": [
    "#Crossvalidation K-fold\n",
    "\n",
    "kf = KFold(n_splits = 10, shuffle = False, random_state = None)\n",
    "result = next(kf.split(fit_df), None)\n",
    "\n",
    "train = fit_df.iloc[result[0]]\n",
    "test =  fit_df.iloc[result[1]]\n",
    "\n",
    "y_train = train[[\"lat\", \"lon\"]]\n",
    "X_train = train.iloc[:, 3:]\n",
    "\n",
    "y_test = test[[\"lat\", \"lon\"]]\n",
    "X_test= test.iloc[:, 3:]"
   ]
  },
  {
   "cell_type": "code",
   "execution_count": 4,
   "metadata": {},
   "outputs": [
    {
     "name": "stdout",
     "output_type": "stream",
     "text": [
      "Erro lat e lon 1.21347763240724e-07\n",
      "Erro em metros 0.0029706599537012656\n"
     ]
    }
   ],
   "source": [
    "from util.MultiRegressor import MultiRegressor \n",
    "from sklearn.metrics import mean_squared_error\n",
    "from util.locdefs import get_distance_in_meters\n",
    "\n",
    "\n",
    "clf = neighbors.KNeighborsRegressor()\n",
    "parameters = {'n_neighbors':list(range(1,15))}\n",
    "\n",
    "multiregressor = MultiRegressor(clf, parameters)\n",
    "multiregressor.fit(X_train, y_train)\n",
    "\n",
    "#print(multiregressor.best_parameters_)\n",
    "y_pred = multiregressor.predict(X_test)\n",
    "ems = mean_squared_error(y_test, y_pred)\n",
    "print(\"Error lat and lon\", ems)\n",
    "\n",
    "list_temp = []\n",
    "for i in range(y_test.shape[0]): \n",
    "    list_temp.append(get_distance_in_meters(y_pred[i][0], y_test[\"lat\"][i], y_pred[i][1], y_test[\"lon\"][i])/1000)\n",
    "                     \n",
    "ems_dist = mean_squared_error([0]*y_test.shape[0], list_temp)\n",
    "print(\"EMS with data in meters \", ems_dist)\n"
   ]
  },
  {
   "cell_type": "markdown",
   "metadata": {},
   "source": [
    "# Fingerprinting"
   ]
  },
  {
   "cell_type": "code",
   "execution_count": 12,
   "metadata": {},
   "outputs": [
    {
     "name": "stdout",
     "output_type": "stream",
     "text": [
      "lat_max -8.059339999999999 lat_min -8.077567 lon_max -34.885078 lon_min -34.906826\n"
     ]
    }
   ],
   "source": [
    "lat_max = np.array(fit_df[[\"lat\"]]).max()\n",
    "lat_min = np.array(fit_df[[\"lat\"]]).min()\n",
    "\n",
    "lon_max = np.array(fit_df[[\"lon\"]]).max()\n",
    "lon_min = np.array(fit_df[[\"lon\"]]).min()\n",
    "\n",
    "#print(\"lat \", get_distance_in_meters(lat_min, lon_min, lat_max, lon_max))\n",
    "print('lat_max', lat_max, 'lat_min', lat_min, 'lon_max', lon_max, 'lon_min', lon_min)\n",
    "\n"
   ]
  },
  {
   "cell_type": "code",
   "execution_count": null,
   "metadata": {},
   "outputs": [],
   "source": []
  }
 ],
 "metadata": {
  "kernelspec": {
   "display_name": "Python 3",
   "language": "python",
   "name": "python3"
  },
  "language_info": {
   "codemirror_mode": {
    "name": "ipython",
    "version": 3
   },
   "file_extension": ".py",
   "mimetype": "text/x-python",
   "name": "python",
   "nbconvert_exporter": "python",
   "pygments_lexer": "ipython3",
   "version": "3.6.4"
  }
 },
 "nbformat": 4,
 "nbformat_minor": 2
}
